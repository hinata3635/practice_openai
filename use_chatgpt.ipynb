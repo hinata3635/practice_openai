{
 "cells": [
  {
   "cell_type": "code",
   "execution_count": 1,
   "metadata": {},
   "outputs": [],
   "source": [
    "import os\n",
    "from dotenv import load_dotenv\n",
    "from openai import OpenAI"
   ]
  },
  {
   "cell_type": "code",
   "execution_count": 2,
   "metadata": {},
   "outputs": [],
   "source": [
    "def get_chatgpt_response(prompt: str, client: OpenAI, model: str) -> str:\n",
    "    chat_completion = client.chat.completions.create(\n",
    "        model=model,  # 使用するモデルを指定\n",
    "        messages=[\n",
    "            {\"role\": \"system\", \"content\": \"You are a helpful assistant.\"},\n",
    "            {\"role\": \"user\", \"content\": prompt}\n",
    "        ],\n",
    "        max_tokens=150,  # 生成するレスポンスの最大トークン数\n",
    "        n=1,  # 生成するレスポンスの数\n",
    "        stop=None,  # レスポンス生成の停止条件\n",
    "        temperature=0.7  # 生成するレスポンスのクリエイティビティ（0.0 - 1.0）\n",
    "    )\n",
    "\n",
    "    return chat_completion.choices[0].message.content"
   ]
  },
  {
   "cell_type": "code",
   "execution_count": 3,
   "metadata": {},
   "outputs": [],
   "source": [
    "# .envファイルを読み込む\n",
    "load_dotenv()\n",
    "\n",
    "# APIkeyの登録\n",
    "client = OpenAI(\n",
    "    api_key=os.environ.get(\"OPENAI_API_KEY\"),\n",
    ")"
   ]
  },
  {
   "cell_type": "code",
   "execution_count": 4,
   "metadata": {},
   "outputs": [],
   "source": [
    "# プロンプトを設定\n",
    "prompt = \"ChatGPTについて150字以内で紹介をしてください\""
   ]
  },
  {
   "cell_type": "code",
   "execution_count": 5,
   "metadata": {},
   "outputs": [
    {
     "name": "stdout",
     "output_type": "stream",
     "text": [
      "ChatGPTは、自然な対話を通じて情報を提供し、質問に答えるAIアシスタントです。文章生成、質問応答、会話、翻訳など、さまざまなタスクに対応しています。ユーザーとの対話を通じて学習し、より賢くなります。ビジネスや個人利用において、コミュニケーションを円滑にし、情報を簡単に入手\n"
     ]
    }
   ],
   "source": [
    "# ChatGPTからのレスポンスを取得\n",
    "model = 'gpt-3.5-turbo'\n",
    "response = get_chatgpt_response(prompt, client, model)\n",
    "print(response)"
   ]
  }
 ],
 "metadata": {
  "kernelspec": {
   "display_name": "Python 3.10.14 ('openai')",
   "language": "python",
   "name": "python3"
  },
  "language_info": {
   "codemirror_mode": {
    "name": "ipython",
    "version": 3
   },
   "file_extension": ".py",
   "mimetype": "text/x-python",
   "name": "python",
   "nbconvert_exporter": "python",
   "pygments_lexer": "ipython3",
   "version": "3.10.14"
  },
  "orig_nbformat": 4,
  "vscode": {
   "interpreter": {
    "hash": "2bb5586c3dcb926cd49c3292273283dd2b9969ddc5208fcf64781f0159941655"
   }
  }
 },
 "nbformat": 4,
 "nbformat_minor": 2
}
